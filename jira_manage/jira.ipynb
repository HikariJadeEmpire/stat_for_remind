{
 "cells": [
  {
   "cell_type": "markdown",
   "id": "34167489",
   "metadata": {},
   "source": [
    "## JIRA Bug report"
   ]
  },
  {
   "cell_type": "code",
   "execution_count": 6,
   "id": "7cb4cfb8",
   "metadata": {},
   "outputs": [],
   "source": [
    "import requests\n",
    "import json\n",
    "import os\n",
    "from dotenv import load_dotenv"
   ]
  },
  {
   "cell_type": "markdown",
   "id": "3ec86a38",
   "metadata": {},
   "source": [
    "## Fetch DATA"
   ]
  },
  {
   "cell_type": "code",
   "execution_count": 22,
   "id": "e76f2bfb",
   "metadata": {},
   "outputs": [
    {
     "name": "stdout",
     "output_type": "stream",
     "text": [
      "Getting token successful: ATA...48F\n"
     ]
    }
   ],
   "source": [
    "#### Global variables\n",
    "\n",
    "filterSKR01 = {\"jql\" : \"filter = 10250\"}\n",
    "filterSKR10 = {\"jql\" : \"filter = 10251\"}\n",
    "\n",
    "load_dotenv()\n",
    "\n",
    "jira_token_path = os.environ.get('jr_token')\n",
    "print(f\"Getting token successful: {jira_token_path[:3]}...{jira_token_path[-3:]}\")"
   ]
  },
  {
   "cell_type": "code",
   "execution_count": 23,
   "id": "b4a32d8e",
   "metadata": {},
   "outputs": [],
   "source": [
    "def get_bug_skr(versions = filterSKR01) -> list:\n",
    "    rsrc = \"search\"\n",
    "\n",
    "    endpoint = \"https://skrmobileapp.atlassian.net/rest/api/3/{resrc}\".format( \n",
    "        resrc = rsrc,\n",
    "        )\n",
    "\n",
    "    jira_user = 'punnathorn.mingkwan@sikarin.com'\n",
    "    auth = requests.auth.HTTPBasicAuth(jira_user, jira_token_path)\n",
    "    head = {\n",
    "        \"Accept\": \"application/json\",\n",
    "        }\n",
    "\n",
    "    response = requests.get(url = endpoint, headers = head, auth = auth, params = versions)\n",
    "    # print(\"STATUS : {response.status_code}\")\n",
    "\n",
    "    allDefectSKR01 = json.loads(response.text)\n",
    "\n",
    "    ############################################\n",
    "    ############################################\n",
    "    ###### filter all bugs into a list\n",
    "    ############################################\n",
    "    ############################################\n",
    "\n",
    "    bug_lists = []\n",
    "    for i in range(len(allDefectSKR01['issues'])):\n",
    "\n",
    "        assign = None\n",
    "        if allDefectSKR01['issues'][i]['fields']['assignee'] is not None:\n",
    "            assign = allDefectSKR01['issues'][i]['fields']['assignee']['displayName']\n",
    "        \n",
    "        myBugFormat = {\n",
    "            'bug_id' : allDefectSKR01['issues'][i]['key'],\n",
    "            'status' : allDefectSKR01['issues'][i]['fields']['status']['name'],\n",
    "            'priority' : allDefectSKR01['issues'][i]['fields']['priority']['name'],\n",
    "            'bug_name' : allDefectSKR01['issues'][i]['fields']['summary'],\n",
    "            'created' : allDefectSKR01['issues'][i]['fields']['created'],\n",
    "            'duedate' : allDefectSKR01['issues'][i]['fields']['duedate'],\n",
    "            'Assignee' : assign,\n",
    "            'labels' : allDefectSKR01['issues'][i]['fields']['labels'],\n",
    "        }\n",
    "        bug_lists.append(myBugFormat)\n",
    "    return bug_lists\n"
   ]
  },
  {
   "cell_type": "code",
   "execution_count": 24,
   "id": "d5ac50a3",
   "metadata": {},
   "outputs": [
    {
     "data": {
      "text/plain": [
       "12"
      ]
     },
     "execution_count": 24,
     "metadata": {},
     "output_type": "execute_result"
    }
   ],
   "source": [
    "len(get_bug_skr(versions = filterSKR01))"
   ]
  },
  {
   "cell_type": "code",
   "execution_count": 25,
   "id": "85aeb0ee",
   "metadata": {},
   "outputs": [
    {
     "name": "stdout",
     "output_type": "stream",
     "text": [
      "{'bug_id': 'SKR-2234', 'status': 'Draft (need-to-recheck)', 'priority': 'High', 'bug_name': '[BO,Mobile] การแสดง \"ผลแล็บ\" ในเมนู \"ผลตรวจสุขภาพ\" ค่าไม่แสดงสีเขียว/เหลือง ', 'created': '2025-06-27T17:53:43.135+0700', 'duedate': None, 'Assignee': 'manisara piboon', 'labels': ['SKR0.1', 'form', 'form-1']}\n",
      "\n",
      "{'bug_id': 'SKR-2309', 'status': 'ready-to-fix (assigned)', 'priority': 'High', 'bug_name': '[BO,MO] Pre-register SKC ไม่สำเร็จ', 'created': '2025-07-17T09:53:46.250+0700', 'duedate': '2025-07-30', 'Assignee': 'Tanawat Chanhom', 'labels': ['SKR0.1', 'form', 'form-1']}\n",
      "\n",
      "{'bug_id': 'SKR-2221', 'status': 'ready-to-fix (assigned)', 'priority': 'Medium', 'bug_name': '[Appointment] กดทำนัดภายใต้ช่วงเวลา 48 ชั่วโมง แต่กดเลือกแพทย์ได้', 'created': '2025-06-24T16:57:35.519+0700', 'duedate': '2025-07-30', 'Assignee': 'Purinut Uomrod', 'labels': ['SKR0.1', 'form', 'form-1']}\n",
      "\n",
      "{'bug_id': 'SKR-2312', 'status': 'Draft ready', 'priority': 'High', 'bug_name': '[MO,BO Patient E6041] Staff และ User ดูข้อมูล Health Checkup ที่ไม่ตรงกัน (ข้อมูล: ตรวจวันที่)', 'created': '2025-07-21T10:20:25.630+0700', 'duedate': None, 'Assignee': None, 'labels': ['SKR0.1', 'form', 'form-1']}\n",
      "\n",
      "{'bug_id': 'SKR-2307', 'status': 'Draft ready', 'priority': 'High', 'bug_name': '[MO] เปลี่ยนภาษาเป็น Eng แต่เมนูยังเป็นภาษาไทย', 'created': '2025-07-16T13:52:40.108+0700', 'duedate': None, 'Assignee': 'Pongpanot Na ubon', 'labels': ['SKR0.1', 'form', 'form-1']}\n",
      "\n",
      "{'bug_id': 'SKR-2265', 'status': 'fixed-deployed', 'priority': 'Highest', 'bug_name': '[MO] ไม่สามารถยืนยันตัวตนด้วยบัตรประชาชนได้', 'created': '2025-07-15T10:52:30.300+0700', 'duedate': '2025-07-21', 'Assignee': 'Nutsongwat Cheawka', 'labels': ['SKR0.1', 'form', 'form-1']}\n",
      "\n",
      "{'bug_id': 'SKR-2264', 'status': 'fixed-deployed', 'priority': 'Highest', 'bug_name': '[MO] การเข้าใช้งาน App มีลักษณะการทำงานที่ผิดปกติ', 'created': '2025-07-15T10:48:56.922+0700', 'duedate': '2025-07-21', 'Assignee': 'Nutsongwat Cheawka', 'labels': ['SKR0.1', 'form', 'form-1']}\n",
      "\n",
      "{'bug_id': 'SKR-2249', 'status': 'fixed-deployed', 'priority': 'Highest', 'bug_name': '[MO] หน้าจอไม่แสดงนัดหมายที่กำลังจะมาถึง', 'created': '2025-07-14T13:27:46.087+0700', 'duedate': '2025-07-21', 'Assignee': 'Purinut Uomrod', 'labels': ['SKR0.1', 'form', 'form-1']}\n",
      "\n",
      "{'bug_id': 'SKR-2251', 'status': 'fixed-deployed', 'priority': 'High', 'bug_name': '[BO] list สำหรับเลือก clinic ซ้ำกัน', 'created': '2025-07-15T08:46:16.344+0700', 'duedate': '2025-07-21', 'Assignee': 'Nutsongwat Cheawka', 'labels': ['SKR0.1', 'form', 'form-1']}\n",
      "\n",
      "{'bug_id': 'SKR-2206', 'status': 'fixed-deployed', 'priority': 'High', 'bug_name': '[BO] ไม่สามารถตั้งให้ไม่แสดง หรือลบรายการคลินิกได้', 'created': '2025-06-18T10:19:19.050+0700', 'duedate': '2025-07-21', 'Assignee': 'Tanawat Chanhom', 'labels': ['SKR0.1', 'form', 'form-1']}\n",
      "\n",
      "{'bug_id': 'SKR-2203', 'status': 'fixed-deployed', 'priority': 'High', 'bug_name': '[SKC] Upload รายชื่อของสาขา อื่น แต่ขึ้นเป็นกรุงเทพ', 'created': '2025-06-16T16:33:18.509+0700', 'duedate': '2025-07-21', 'Assignee': 'Nutcha Theeranaew', 'labels': ['SKR0.1', 'form', 'form-1']}\n",
      "\n",
      "{'bug_id': 'SKR-2255', 'status': 'fixed-deployed', 'priority': 'Medium', 'bug_name': '[BO] สร้าง media ใหม่แล้วยอดวิว 10 ล้าน', 'created': '2025-07-15T09:27:21.714+0700', 'duedate': '2025-07-21', 'Assignee': 'Nutsongwat Cheawka', 'labels': ['SKR0.1', 'form', 'form-1']}\n",
      "\n"
     ]
    }
   ],
   "source": [
    "for i in get_bug_skr(versions = filterSKR01):\n",
    "    print(i, end = '\\n\\n')"
   ]
  },
  {
   "cell_type": "code",
   "execution_count": null,
   "id": "07f50606",
   "metadata": {},
   "outputs": [],
   "source": []
  }
 ],
 "metadata": {
  "kernelspec": {
   "display_name": "base",
   "language": "python",
   "name": "python3"
  },
  "language_info": {
   "codemirror_mode": {
    "name": "ipython",
    "version": 3
   },
   "file_extension": ".py",
   "mimetype": "text/x-python",
   "name": "python",
   "nbconvert_exporter": "python",
   "pygments_lexer": "ipython3",
   "version": "3.10.9"
  }
 },
 "nbformat": 4,
 "nbformat_minor": 5
}

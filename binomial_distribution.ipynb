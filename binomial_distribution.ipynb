{
 "cells": [
  {
   "cell_type": "markdown",
   "id": "be1d08b8",
   "metadata": {},
   "source": [
    "## Binomial Distributions"
   ]
  },
  {
   "cell_type": "code",
   "execution_count": 109,
   "id": "415e4d04",
   "metadata": {},
   "outputs": [
    {
     "name": "stdout",
     "output_type": "stream",
     "text": [
      "Python 3.10.9 | packaged by Anaconda, Inc. | (main, Mar  1 2023, 18:18:15) [MSC v.1916 64 bit (AMD64)]\n",
      "Pandas 2.0.3\n",
      "NumPy 1.26.2\n",
      "Matplotlib 3.7.0\n",
      "\n"
     ]
    },
    {
     "name": "stderr",
     "output_type": "stream",
     "text": [
      "C:\\Users\\rastu\\AppData\\Local\\Temp\\ipykernel_17796\\2785105329.py:11: MatplotlibDeprecationWarning: The seaborn styles shipped by Matplotlib are deprecated since 3.6, as they no longer correspond to the styles shipped by seaborn. However, they will remain available as 'seaborn-v0_8-<style>'. Alternatively, directly use the seaborn API instead.\n",
      "  plt.style.use('seaborn')\n"
     ]
    }
   ],
   "source": [
    "import sys\n",
    "import pandas as pd\n",
    "import numpy as np\n",
    "import random\n",
    "\n",
    "import matplotlib as mpl\n",
    "import matplotlib.pyplot as plt\n",
    "%matplotlib inline\n",
    "import seaborn as sns\n",
    "\n",
    "plt.style.use('seaborn')\n",
    "\n",
    "print( f\"Python {sys.version}\\nPandas {pd.__version__}\\nNumPy {np.__version__}\\n\\\n",
    "Matplotlib {mpl.__version__}\\n\" ) "
   ]
  },
  {
   "cell_type": "markdown",
   "id": "a1fb023b",
   "metadata": {},
   "source": [
    "## Define functions"
   ]
  },
  {
   "cell_type": "code",
   "execution_count": 128,
   "id": "87233c6b",
   "metadata": {},
   "outputs": [],
   "source": [
    "def fact(n):\n",
    "    fact = 1\n",
    "    for i in range(1, n+1):\n",
    "        fact = fact * i\n",
    "    return fact\n",
    "\n",
    "def permutation(all, choose) -> float:\n",
    "    ### nPr represents the number of ways to arrange r items chosen from a set of n items, where the order of the arrangement matters.\n",
    "    ### returning the number of all events\n",
    "    return fact(all)/fact(all - choose)\n",
    "\n",
    "def combination(all, choose) -> float:\n",
    "    ### nCr represents the number of ways to choose r items from a set of n items, where the order of selection does not matter. \n",
    "    ### returning the number of all events\n",
    "    return fact(all)/( fact(choose) * fact(all - choose) )\n",
    "\n",
    "def rand_simulation(n_simulate, n_samples, success_rate) -> str:\n",
    "    score = []\n",
    "    for i in range(n_simulate):\n",
    "        pos_count = 0\n",
    "        for j in range(n_samples):\n",
    "            r = random.random()\n",
    "            if r >= success_rate :\n",
    "                pass\n",
    "            else :\n",
    "                # print('Positive')\n",
    "                pos_count += 1\n",
    "\n",
    "        score.append(pos_count)\n",
    "\n",
    "    x = score.count(10)\n",
    "\n",
    "    return \"we got 10/10 at : {a} from {b}\\nTotal percent : {c:.4f} %\".format(a = x, b = n_simulate, c = ((x / n_simulate) * 100))\n",
    "\n",
    "def get_success_rate(n_simulate, n_samples, success_rate) -> dict:\n",
    "    score = {'n_pos': [], 'counts': [], 'p_counts' : []}\n",
    "    for items in score.keys() :\n",
    "        for cc in range(n_samples + 1):\n",
    "            if items == 'n_pos' :\n",
    "                score[items].append(cc)\n",
    "            else :\n",
    "                score[items].append(0)\n",
    "\n",
    "    for i in range(n_simulate):\n",
    "        pos_count = 0\n",
    "        for j in range(n_samples):\n",
    "            r = random.random()\n",
    "            if r >= success_rate :\n",
    "                pass\n",
    "            else :\n",
    "                # print('Positive')\n",
    "                pos_count += 1\n",
    "\n",
    "        score['counts'][pos_count] += 1\n",
    "        score['p_counts'][pos_count] = (pos_count / n_simulate) * 100\n",
    "\n",
    "    return score"
   ]
  },
  {
   "cell_type": "code",
   "execution_count": 93,
   "id": "45699741",
   "metadata": {},
   "outputs": [
    {
     "data": {
      "text/plain": [
       "2598960.0"
      ]
     },
     "execution_count": 93,
     "metadata": {},
     "output_type": "execute_result"
    }
   ],
   "source": [
    "combination(52,5)"
   ]
  },
  {
   "cell_type": "code",
   "execution_count": 122,
   "id": "80141215",
   "metadata": {},
   "outputs": [
    {
     "name": "stdout",
     "output_type": "stream",
     "text": [
      "n_pos\n",
      "counts\n",
      "p_counts\n"
     ]
    }
   ],
   "source": [
    "score = {'n_pos': [0,1,2], 'counts': [0,1,2], 'p_counts' : [0,1,2]}\n",
    "for i in score.keys():\n",
    "    print(i)"
   ]
  },
  {
   "cell_type": "markdown",
   "id": "f4562ba2",
   "metadata": {},
   "source": [
    "## Random"
   ]
  },
  {
   "cell_type": "code",
   "execution_count": 100,
   "id": "d97c4848",
   "metadata": {},
   "outputs": [
    {
     "name": "stdout",
     "output_type": "stream",
     "text": [
      "we got 10/10 at : 68 from 100\n",
      "Total percent : 68.0000 %\n"
     ]
    }
   ],
   "source": [
    "n_simulate = 100\n",
    "n_samples = 10\n",
    "success_rate = 0.95\n",
    "\n",
    "print(rand_simulation(n_simulate, n_samples, success_rate))"
   ]
  },
  {
   "cell_type": "code",
   "execution_count": 129,
   "id": "b203ca9b",
   "metadata": {},
   "outputs": [],
   "source": [
    "n_simulate = 200\n",
    "n_samples = 10\n",
    "success_rate = 0.95\n",
    "\n",
    "df = pd.DataFrame.from_dict(\n",
    "    get_success_rate(n_simulate, n_samples, success_rate)\n",
    ")"
   ]
  },
  {
   "cell_type": "code",
   "execution_count": 130,
   "id": "6f8d5dfe",
   "metadata": {},
   "outputs": [
    {
     "data": {
      "text/html": [
       "<div>\n",
       "<style scoped>\n",
       "    .dataframe tbody tr th:only-of-type {\n",
       "        vertical-align: middle;\n",
       "    }\n",
       "\n",
       "    .dataframe tbody tr th {\n",
       "        vertical-align: top;\n",
       "    }\n",
       "\n",
       "    .dataframe thead th {\n",
       "        text-align: right;\n",
       "    }\n",
       "</style>\n",
       "<table border=\"1\" class=\"dataframe\">\n",
       "  <thead>\n",
       "    <tr style=\"text-align: right;\">\n",
       "      <th></th>\n",
       "      <th>n_pos</th>\n",
       "      <th>counts</th>\n",
       "      <th>p_counts</th>\n",
       "    </tr>\n",
       "  </thead>\n",
       "  <tbody>\n",
       "    <tr>\n",
       "      <th>0</th>\n",
       "      <td>0</td>\n",
       "      <td>0</td>\n",
       "      <td>0.0</td>\n",
       "    </tr>\n",
       "    <tr>\n",
       "      <th>1</th>\n",
       "      <td>1</td>\n",
       "      <td>0</td>\n",
       "      <td>0.0</td>\n",
       "    </tr>\n",
       "    <tr>\n",
       "      <th>2</th>\n",
       "      <td>2</td>\n",
       "      <td>0</td>\n",
       "      <td>0.0</td>\n",
       "    </tr>\n",
       "    <tr>\n",
       "      <th>3</th>\n",
       "      <td>3</td>\n",
       "      <td>0</td>\n",
       "      <td>0.0</td>\n",
       "    </tr>\n",
       "    <tr>\n",
       "      <th>4</th>\n",
       "      <td>4</td>\n",
       "      <td>0</td>\n",
       "      <td>0.0</td>\n",
       "    </tr>\n",
       "    <tr>\n",
       "      <th>5</th>\n",
       "      <td>5</td>\n",
       "      <td>0</td>\n",
       "      <td>0.0</td>\n",
       "    </tr>\n",
       "    <tr>\n",
       "      <th>6</th>\n",
       "      <td>6</td>\n",
       "      <td>0</td>\n",
       "      <td>0.0</td>\n",
       "    </tr>\n",
       "    <tr>\n",
       "      <th>7</th>\n",
       "      <td>7</td>\n",
       "      <td>3</td>\n",
       "      <td>3.5</td>\n",
       "    </tr>\n",
       "    <tr>\n",
       "      <th>8</th>\n",
       "      <td>8</td>\n",
       "      <td>14</td>\n",
       "      <td>4.0</td>\n",
       "    </tr>\n",
       "    <tr>\n",
       "      <th>9</th>\n",
       "      <td>9</td>\n",
       "      <td>69</td>\n",
       "      <td>4.5</td>\n",
       "    </tr>\n",
       "    <tr>\n",
       "      <th>10</th>\n",
       "      <td>10</td>\n",
       "      <td>114</td>\n",
       "      <td>5.0</td>\n",
       "    </tr>\n",
       "  </tbody>\n",
       "</table>\n",
       "</div>"
      ],
      "text/plain": [
       "    n_pos  counts  p_counts\n",
       "0       0       0       0.0\n",
       "1       1       0       0.0\n",
       "2       2       0       0.0\n",
       "3       3       0       0.0\n",
       "4       4       0       0.0\n",
       "5       5       0       0.0\n",
       "6       6       0       0.0\n",
       "7       7       3       3.5\n",
       "8       8      14       4.0\n",
       "9       9      69       4.5\n",
       "10     10     114       5.0"
      ]
     },
     "execution_count": 130,
     "metadata": {},
     "output_type": "execute_result"
    }
   ],
   "source": [
    "df"
   ]
  },
  {
   "cell_type": "markdown",
   "id": "d7ffe303",
   "metadata": {},
   "source": [
    "### Plot"
   ]
  },
  {
   "cell_type": "code",
   "execution_count": 137,
   "id": "802b2eb9",
   "metadata": {},
   "outputs": [
    {
     "data": {
      "text/plain": [
       "Text(0, 0.5, 'Probability of x (%)')"
      ]
     },
     "execution_count": 137,
     "metadata": {},
     "output_type": "execute_result"
    },
    {
     "data": {
      "image/png": "[encoded data removed]",
      "text/plain": [
       "<Figure size 1350x600 with 1 Axes>"
      ]
     },
     "metadata": {},
     "output_type": "display_data"
    }
   ],
   "source": [
    "plt.figure(figsize=(9,4),dpi=150)\n",
    "\n",
    "# Plot \n",
    "bars = plt.bar(x=df.n_pos,\n",
    "        height=df.p_counts,\n",
    "        )\n",
    "\n",
    "# Annotating bars\n",
    "for bar in bars:\n",
    "    plt.text(\n",
    "        bar.get_x() + bar.get_width() / 2, \n",
    "        bar.get_height(),\n",
    "        f'{bar.get_height():.1f} %', \n",
    "        ha='center', \n",
    "        va='bottom', \n",
    "        fontsize=10,\n",
    "             )\n",
    "\n",
    "plt.title(f\"Numbers of simulation: {n_simulate}\")\n",
    "plt.xlabel(\"The number of positive reviews\")\n",
    "plt.ylabel(\"Probability of x (%)\")\n"
   ]
  },
  {
   "cell_type": "code",
   "execution_count": null,
   "id": "256eba1f",
   "metadata": {},
   "outputs": [],
   "source": []
  }
 ],
 "metadata": {
  "kernelspec": {
   "display_name": "base",
   "language": "python",
   "name": "python3"
  },
  "language_info": {
   "codemirror_mode": {
    "name": "ipython",
    "version": 3
   },
   "file_extension": ".py",
   "mimetype": "text/x-python",
   "name": "python",
   "nbconvert_exporter": "python",
   "pygments_lexer": "ipython3",
   "version": "3.10.9"
  }
 },
 "nbformat": 4,
 "nbformat_minor": 5
}
